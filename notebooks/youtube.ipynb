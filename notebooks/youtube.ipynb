{
 "cells": [
  {
   "cell_type": "code",
   "execution_count": 9,
   "metadata": {},
   "outputs": [],
   "source": [
    "from dotenv import load_dotenv\n",
    "import os"
   ]
  },
  {
   "cell_type": "code",
   "execution_count": 2,
   "metadata": {},
   "outputs": [
    {
     "data": {
      "text/plain": [
       "True"
      ]
     },
     "execution_count": 2,
     "metadata": {},
     "output_type": "execute_result"
    }
   ],
   "source": [
    "load_dotenv()"
   ]
  },
  {
   "cell_type": "code",
   "execution_count": 3,
   "metadata": {},
   "outputs": [],
   "source": [
    "from langchain_community.document_loaders import YoutubeLoader"
   ]
  },
  {
   "cell_type": "code",
   "execution_count": 20,
   "metadata": {},
   "outputs": [],
   "source": [
    "loader = YoutubeLoader.from_youtube_url(\n",
    "    \"https://www.youtube.com/watch?v=iPiYVCl002o\", add_video_info=True\n",
    ")"
   ]
  },
  {
   "cell_type": "code",
   "execution_count": 21,
   "metadata": {},
   "outputs": [],
   "source": [
    "document = loader.load()"
   ]
  },
  {
   "cell_type": "code",
   "execution_count": 22,
   "metadata": {},
   "outputs": [
    {
     "data": {
      "text/plain": [
       "{'lc': 1,\n",
       " 'type': 'constructor',\n",
       " 'id': ['langchain', 'schema', 'document', 'Document'],\n",
       " 'kwargs': {'page_content': \"in this video we're going to learn about one of the most underrated or undiscussed Library I don't know if undiscussed is a word this library is going to help us to do a lot of things in eii even though this Library does not have anything to do with eii directly this Library helps you get data from an unstructured format into a structured format which is very essential for a lot of different segments of eii first of all if you need to do a llm training you need data this can be used in that if you have an active llm then you need to do rag Rital augmented generation this can be helpful in that this library is pretty much used in a lot of very popular libraries but I don't know why not a lot of people are discussing about this Library hence this video tutorial to introduce unstructured unstructured is the kind of library that can help you get unstructured information into a structured information from a lot of different file formats like PDF HTML email docx pptx Json XML and so on like any file format that you give there is a high chance that unstructured can help you convert that information into structured information with ease while this library is a single Library it has got a lot of dependencies sometimes even for you to use certain file formats you need to have certain dependencies installed so in this video going to discuss how to like very brief of unstructured and also how to use unstructured and get structured information from three file formats PDF HTML and email especially with email I'll also show you how to get the meta information like who sent the email who received the email that kind of information which is pretty straightforward like single line of python code let's get started with the video tutorial this is the HTML file that we're going to use to get the structured information so for example you can see the title and you can see a bunch of other things the HTML is pasted here the rendered HTML is here and then you have got the PDF this is the PDF that we are going to use to collect the information and this is the email that we going to use to get the information youve got the subject you have got from youve got to and the actual email content is this this is a test email to use for unit test now what is this Library this library is called unstructured so the they have got multiple offerings so but we talking about the unstructured core Library if you talk about unstructured core Library their main proposition is that this is a library designed to help pre-process and structur unstructured text documents so that you can use it for Downstream ml tasks for for example you want to do like rag retrial augmented generation or you want to do it for text classification you want to do anything from a variety of libraries uh sorry variety of file formats you can use unstructured for that unstructured has a bunch of core important things one of that is what they call as elements unstructured has got a lot of elements so you can go understand what kind of elements that they have got so if you have got a document so could be PDF could be HTML could be anything it could have all these elements one is the element type the second one is element ID then you have got metadata and text and inside element type you can have like a figure caption narrative text a title address table page break and a bunch of other information and uh the the many important the most important things that you need to understand about unstructured is one is data injection then you have got data processing within data processing you use partitioning and cleaning and partitioning is something that we're going to see in this video and uh we do chunking and then um um then you do build embeddings then you put it in Vector DP so this is what you would typically do with llm and unstructured particularly helps in this data processing place and also in data inje what is data inje you can take data from any file format and then injest the data into your llm pipeline unstructured helps you in that and also unstructured can help you in data pre-processing I'm not very sure whether it can help you in other areas but these are the places where unstructured can effectively help if there is enough interest I will definitely make another Advanced tutorial about un structured or go in depth with unstructured this is going to be a brief tutorial now that we know what unstructured can do for example you have got a PDF document like this and you want to take information out of it a lot of people do not know this thing but PDF is such a mess to work with many many years ago I have done a bunch of projects where we try to do resume parsing this is all before AI before AI came like we wanted to build in a system where our HR department Human Resources or Talent acquisition Department can upload a bunch of PDF files and then ultimately it uh it would the system would tell them okay you've got uh 10 resumes with python skill 20 resumes with r skill or to say that you know you can score the resume or to say that particular skill can be searched in the resume and then the right resume can come this is all before AI like we used a lot of different techniques even with rejects we did it but PDF is such a such a mess to play with uh this is something that everybody knows PDF does not have a standard structure it does not like XML it is not like a Json it is a messy file format so to use PDF in your data pipeline is always a miss and I'm thankful that unstructured can help you in that and it is very straightforward to do that so first we understood what is unstructured we understood what all things that unstructured can do one of the most important thing that you need to understand about unst structure is if you want to install unstructured one you can just basic basically go do installation from piie or the other option is you can go with Docker installation because I'm going to show you the demo on Google collab I'm not going to go with Docker installation but if that is what you prefer you can do with that so I'm going to go with normal installation the way you can install unstructured is one you have the you have the python library that is available on their GitHub and also like Pipi you can install that without any dependencies you can just simply go say pip install unstructured which will just install the core and structure but doesn't matter what file format you use you need to have extensions certain file formats are supported out of box like Json XML these are like the file formats unstructured supports out of box but there are certain file formats are not supported out of box so for example if you want docx and pptx then you can specifically install unstructured square bracket docx pptx and then you get certain file formats this or you can just go say unstructured all docs that will install unstructured for all the documents and that is exactly what we are going to do in our tutorial the next thing is even though you install unstructured there are certain dependencies that you need to install to make sure that unstructured books with different file formats for example you want to do OC or optical character recognition is it optical character recognition or object character recognition some character recognition you want to do character recognition then you need to install something like TX so there are certain dependencies that you need to install that you can also install depending upon the operating system that you have got technically this should work completely fine on Windows and Mac but I have tested it on Google collab which is running a Linux version so if you have any issues with the different version I would strongly encourage you to check out their geub issu section so now getting into the Google collab notebook we're going to see step by step how to use unstructured for your llm pipline Downstream task it could be text generation text parsing rag whatever you want to do we're going to use unstructured for it so first thing you need to do is you need to install the Google collab notebook is from unstructured so I'll link it in the YouTube description you don't have to take notes while you are watching this video so you can watch the video and then go play with the notebook or have the split screen and play with that while you're doing so the first thing is you're going to install certain dependencies like popular utils and test re OCR then you're going to use I install pillow which is uh the image processing for python then unstructured with all the docks at this point after you install this this in my case took about 2 minutes after you have done this thing this should ideally uh install all the required libraries for you like I said if you don't want to deal with dependencies if you're doing it on a local machine I would strongly encourage you to try Docker but if you are a Docker un fan Docker like if you do not like Docker how do you say somebody who doesn't like it if you hate Docker maybe that's easier to if you hate Docker if you want to keep it minimal then you can go with this op option but you if you don't want to deal with dependencies Docker is the absolute easiest way to do it then once we have done all the installation now we are going to take three file formats from their examples document and then we are going to get it into our Google collab environment so we are creating a folder inside our Google collab environment called example docs inside that folder let me show you the folder this is the folder and inside that folder we are going to download these files what are the files we are downloading one is the HTML file example 10K which I just showed you this HTML file the second one is we are going to download the PDF this is the PDF that we are going to download and third one is this is the email. EML format so we're going to download an HTML file a pdf. EML file after we have downloaded and put it into the right folder see it doesn't matter what folder you keep for your use case you can change it I'll tell you where you have to change it but it is very important for you to understand where you are putting this folder or where you are this file that you download from the Internet or in your case it is completely possible that you already have a folder that you have got all the PDFs so this may not be entirely applicable for you after you have downloaded the first thing that we're going to do is we're going to do HTML passing HTML passing is dat simple from unstructured do documents. HTML because HTML is type of a document you want to read it so you're going to say import HTML document and from HTML document HTML document do from file and refer the file in my case it is inside the folder example docs SL example 10K HTML and then get it it once you get it then you can get it here and you have also got an example code how you can read it from your Google drive if you want now inside this doc so I can just print doc here um I think right now I will not have this let me run this again and uh you can see it takes a little bit of time because it's doing the paring thing and I'm going to print doc once you print doc you will know that it is an unstructured document type which is an HTML document that's what you get but now you need to start reading it one of the easiest way for you to read it is you can just go see the elements like for example you can see the elements here and when you read the elements here you can see there is an HTML title there is an HTML narrative there's an HTML narrative text these are the different types of elements that are available for you for an HTML document other thing that you can do is you can do do do pages of two and then really read it so I'm going to do doc. pages of zero and then you can see United States Security Commission Exchange Commission Washington DC 205 49 form 10K and you go to your HTML viewer and you can see exact same United stat security exchange Washington Commission Washington Exchange Commission Washington DC 20549 and you can see all the information is where the HTML document has been passed and then given you given to you as a Simple Text file which now you can for example you want to do rag Ral augmented generation then you can take this text give it to your llm and then do rag or you want to do this and give it convert into embedding storage so that you can always parse it and then retrieve the information you can do anything that you want and that is simply like page zero page one and then you can iterate it like I can I can do a for Loop and then iterate it and then get the information page page one if I go to page one in this case which means page two uh you have got Galaxy gaming Inc and will report all the information Galaxy gaming Inc information and then you have got all the information that you can see in this particular page and you can also see the elements like I said this is the actual information like the text content but if you want to just separately see the elements you can see the elements as well this is HTML parsing now how do you do PDF parsing the PDF parsing is as same as that except that you have got couple of options with PDF parsing so you have got two strategies that are available one is a fast strategies the second one is a highr strategy so the default is a highr strategy highr strategy will not be fast but if you want fast then you can go with fast strategy which may not be highly accurate so this is an option that the unstructured team is giving to you for you to have the trade off between speed and accuracy so all you have to do is you can go here and uh do from unstructured dop partition. PDF import partition PDF and then read the documents you have got you can read with both elements without anything without without any strategy which means it is in the highest strategy you can go with elements _ fast PDF read the file path and then strategy fast in this case it will read with fast and as you can see here um it is just displaying you all the elements that it has read in this particular case you have got the same set of elements nine text four title four uh eight narrative text and four list item so in this particular case I'm not sure like if it makes any difference between having a fast strategy and higher strategy but in other places it might make a difference and also you can try to see some of the elements that you have got so you can see that you have got um youve got um you've got an element in this case the text element the keywords that are available here so you can see the keywords here so if we go to the PDF where do we see the keywords I can see the keywords so unstructured says that this is kind of the first keyword here so maybe this is all title and other information that we have got so you can see the text element and uh these are the text element that are available here so you can see that pretty well for a particular element so element of text and you can see that the other thing is you can literally print that is available everywhere so it is very simple for you to do all you have to do is for element in elements and oh man I just ran it print sometimes I get confused where should I press shift enter where should I press enter where should I press control enter so for element in elements I print element and you can print it what okay I didn't run this I didn't run this I'm running this uh so I've got elements elements uncore fast and uh let me run this this should technically print the entire PDF as you can see here you can see some meta information is there then you have got the title then you have got like the authors then you have got like the email ID abstract keywords instruction deep learning blah blah blah blah and then it starts giving you uh the abstract I think this is part of the abstract and it gives you all the information that you want so this is basically your PDF extraction this is probably the simplest way for you to convert an unstructured PDF into structured information I think under the hood it might use libraries like PDF minor if you don't want like over bloated um pipeline for you whatever that you do like if you all you want like simple PDF then you can probably go with PDF Miner but I think using unstructured will help you use other file formats later on if you want after the PDF is done now let's get into the final example that we have got this is an email the email looks like this so you have got bunch of information in the email primarily from to and all these things so how are we going to read email very simple unst structure. partition. Auto and import partition so unlike PDF where we specifically imported PDF partition PDF here we are going with Auto and then saying import partition and then partition of the file name whatever you want and as you know I've already downloaded the EML file inside my example docs folder you read it and then all you have to do is print elements in element so let me run this and you get this is a test email to use for unit test important points ress or red violets are blue violets are blue is it violets are blue why wouldn't violet blue okay you've got the content but you have a lot of important meta information see unlike PDF unlike HTML email is not only about the email content you have like a lot of other important things like the from to the server and all the information so how do you get it it is very simple one single line of python code element do metadata 2 do 2or dict that's it you have all the metadata of this particular element into a dictionary what is the file directory okay it is under example docs what is a file name okay when was it last modified who did who from whom it was sent to whom it was sent what is a subject what is a language what is a parent ID what is a file type it's an RFC 822 file type is it is it an RFC 822 file type no idea but in simple you can take any file format even beyond what we have SE seen the examples pptx like PowerPoint presentation docx which is Microsoft's proprietary document format so you can take any file format and convert into text more structured file format extract meta information and use that for let's say your rual augmented generation or any other Downstream ml task unstructured can help help you do that so I'll link the GitHub repository in the YouTube description and I'll also link the collab notebook in the YouTube description for you to play with to quickly summarize we first learned about what is unstructured then we briefly saw some examples then we learned how to install the library then we saw three examples to extract unstructured information from an unstructured file format like PDF HTML and email and then convert it into structured file format or simply text and yeah let me know what you feel about this kind of tutorial video file format if you see any value in it please give a thumbs up and subscribe to the channel see you in the video Happy prompting\",\n",
       "  'metadata': {'source': 'iPiYVCl002o',\n",
       "   'title': 'How to convert PDF DOCX to Structured TXT Formats for RAG! (UNSTRUCTURED Tutorial)',\n",
       "   'description': 'Unknown',\n",
       "   'view_count': 4031,\n",
       "   'thumbnail_url': 'https://i.ytimg.com/vi/iPiYVCl002o/hq720.jpg',\n",
       "   'publish_date': '2024-04-16 00:00:00',\n",
       "   'length': 1121,\n",
       "   'author': '1littlecoder'}}}"
      ]
     },
     "execution_count": 22,
     "metadata": {},
     "output_type": "execute_result"
    }
   ],
   "source": [
    "document[0].to_json()"
   ]
  },
  {
   "cell_type": "code",
   "execution_count": 23,
   "metadata": {},
   "outputs": [],
   "source": [
    "from langchain_google_genai import GoogleGenerativeAI"
   ]
  },
  {
   "cell_type": "code",
   "execution_count": 24,
   "metadata": {},
   "outputs": [],
   "source": [
    "prompt = f\"\"\"\n",
    "\n",
    "As an accomplished LinkedIn content specialist, with demonstrated success in creating viral technical LinkedIn posts, \n",
    "your task is to dissect a YouTube transcript and distil it into an engaging 4-6 sentence LinkedIn post. \n",
    "Your post should weave together key insights in a digestible narrative that is bound to spark the curiosity of the AI/ML technical community.\n",
    "\n",
    "Kick-start your post with a compelling, bold opening statement, swiftly followed by a concise story-style sentence to provide context. \n",
    "Make sure to inject your technical prowess into your post by incorporating relevant AI/ML terminologies. \n",
    "Use emojis tastefully to amplify your message and keep your audience intrigued. \n",
    "\n",
    "Ensure your post is easy to read, utilizing formatting tools such as bullet points to structure the content. \n",
    "For bold text, employ unicode. Steer clear from naming the YouTube channel or sharing any Personally Identifiable Information (PII). \n",
    "And remember, a sprinkle of relevant hashtags can extend your post's reach. \n",
    "\n",
    "\n",
    "\n",
    "### Example:\n",
    "\n",
    "🤖💡*Opening Statement:* Artificial Intelligence is not only transforming our present but shaping our future ...\n",
    "\n",
    "Your task commences here. Good luck, and let the creative juices flow!\n",
    "\n",
    "\n",
    "\"{document[0].page_content}\"\n",
    "\n",
    "\"\"\""
   ]
  },
  {
   "cell_type": "code",
   "execution_count": 25,
   "metadata": {},
   "outputs": [],
   "source": [
    "import textwrap\n",
    "from IPython.display import Markdown\n",
    "\n",
    "\n",
    "def to_markdown(text):\n",
    "  text = text.replace('•', '  *')\n",
    "  return Markdown(textwrap.indent(text, '> ', predicate=lambda _: True))"
   ]
  },
  {
   "cell_type": "code",
   "execution_count": 26,
   "metadata": {},
   "outputs": [],
   "source": [
    "llm = GoogleGenerativeAI(\n",
    "    model=\"models/gemini-1.5-pro-latest\",\n",
    "    google_api_key=os.getenv(\"GOOGLE_API_KEY\"),\n",
    ")"
   ]
  },
  {
   "cell_type": "code",
   "execution_count": 27,
   "metadata": {},
   "outputs": [],
   "source": [
    "output = llm.invoke(prompt)"
   ]
  },
  {
   "cell_type": "code",
   "execution_count": 28,
   "metadata": {},
   "outputs": [
    {
     "data": {
      "text/markdown": [
       "> ## 🤯 Unstructured Data Got You Down? 😩  This Python Library is Your New Best Friend! 🤝\n",
       "> \n",
       "> Ever wished you could easily wrangle data from PDFs, emails, and even those messy HTML files into a structured format ready for your AI/ML models? 🪄  Well, say hello to **Unstructured** - a Python library that does just that! ✨\n",
       "> \n",
       "> **Unstructured** acts as a superhero 🦸‍♀️ for your data pipeline, seamlessly handling **data ingestion** and **pre-processing** from a variety of file formats.  It effortlessly extracts text and metadata, turning unstructured chaos into structured gold.  This is a game-changer for tasks like **LLM training**, **RAG (Retrieval Augmented Generation)**, and **text classification**. 📈 \n",
       "> \n",
       "> Want to dive deeper? 🏊‍♀️ Check out the library's GitHub repo and explore its powerful features like element identification, partitioning, and cleaning.  Get ready to unlock the potential of your unstructured data! 🔓\n",
       "> \n",
       "> \\#python \\#AI \\#ML \\#NLP \\#unstructureddata \\#dataprocessing \\#LLMs \n"
      ],
      "text/plain": [
       "<IPython.core.display.Markdown object>"
      ]
     },
     "execution_count": 28,
     "metadata": {},
     "output_type": "execute_result"
    }
   ],
   "source": [
    "to_markdown(output)"
   ]
  },
  {
   "cell_type": "code",
   "execution_count": 19,
   "metadata": {},
   "outputs": [
    {
     "data": {
      "text/markdown": [
       "> ## 💥 The AI Landscape Just Shifted: Introducing Command R+! 💥\n",
       "> \n",
       "> The race for the second-place spot in the AI world is heating up, and Co:here just threw down the gauntlet with its new open-weight large language model (LLM), Command R+. 🏆 This powerful successor to Command R boasts a staggering 128,000 token context window and excels in Retrieval Augmented Generation (RAG) and tool use - crucial capabilities for enterprise-level applications. 💼\n",
       "> \n",
       "> **Here's why Command R+ is making waves:** \n",
       "> \n",
       "> *   **🧠 Advanced RAG with Citations:** Say goodbye to hallucinations! This model provides comprehensive details for accurate and reliable results. \n",
       "> *   **🌎 Multilingual Powerhouse:** Supporting 10 languages out-of-the-box with pre-training data encompassing 13 more, Command R+ breaks down language barriers. \n",
       "> *   **🧰 Seamless Tool Integration:** Boost your business processes by connecting the LLM with external tools and the internet. \n",
       "> *   **💰 Cost-Effective Solution:** Compared to GPT-4 Turbo, Command R+ offers significant cost savings, making advanced AI more accessible.\n",
       "> \n",
       "> With its impressive features and competitive pricing, Command R+ is poised to be a game-changer for businesses seeking a robust and affordable LLM solution.  🚀 \n",
       "> \n",
       "> \\#AI \\#LLM \\#RAG \\#CommandRPlus \\#Co:here \\#NLP \n"
      ],
      "text/plain": [
       "<IPython.core.display.Markdown object>"
      ]
     },
     "execution_count": 19,
     "metadata": {},
     "output_type": "execute_result"
    }
   ],
   "source": [
    "to_markdown(output)"
   ]
  },
  {
   "cell_type": "code",
   "execution_count": 16,
   "metadata": {},
   "outputs": [
    {
     "name": "stdout",
     "output_type": "stream",
     "text": [
      "## 💥 The AI Landscape Just Shifted: Introducing Command R+! 💥\n",
      "\n",
      "The race for the second-place spot in the AI world is heating up, and Co:here just threw down the gauntlet with its new open-weight large language model (LLM), Command R+. 🏆 This powerful successor to Command R boasts a staggering 128,000 token context window and excels in Retrieval Augmented Generation (RAG) and tool use - crucial capabilities for enterprise-level applications. 💼\n",
      "\n",
      "**Here's why Command R+ is making waves:** \n",
      "\n",
      "*   **🧠 Advanced RAG with Citations:** Say goodbye to hallucinations! This model provides comprehensive details for accurate and reliable results. \n",
      "*   **🌎 Multilingual Powerhouse:** Supporting 10 languages out-of-the-box with pre-training data encompassing 13 more, Command R+ breaks down language barriers. \n",
      "*   **🧰 Seamless Tool Integration:** Boost your business processes by connecting the LLM with external tools and the internet. \n",
      "*   **💰 Cost-Effective Solution:** Compared to GPT-4 Turbo, Command R+ offers significant cost savings, making advanced AI more accessible.\n",
      "\n",
      "With its impressive features and competitive pricing, Command R+ is poised to be a game-changer for businesses seeking a robust and affordable LLM solution.  🚀 \n",
      "\n",
      "\\#AI \\#LLM \\#RAG \\#CommandRPlus \\#Co:here \\#NLP \n",
      "\n"
     ]
    }
   ],
   "source": [
    "print(output)"
   ]
  }
 ],
 "metadata": {
  "kernelspec": {
   "display_name": ".venv",
   "language": "python",
   "name": "python3"
  },
  "language_info": {
   "codemirror_mode": {
    "name": "ipython",
    "version": 3
   },
   "file_extension": ".py",
   "mimetype": "text/x-python",
   "name": "python",
   "nbconvert_exporter": "python",
   "pygments_lexer": "ipython3",
   "version": "3.10.14"
  }
 },
 "nbformat": 4,
 "nbformat_minor": 2
}
